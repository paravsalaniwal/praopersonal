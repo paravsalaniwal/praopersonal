{
 "cells": [
  {
   "cell_type": "markdown",
   "metadata": {},
   "source": [
    "---\n",
    "toc: true\n",
    "comments: true\n",
    "layout: post\n",
    "title: RPN Blog\n",
    "description: Makeup Blog for RPN\n",
    "type: hacks\n",
    "courses: { csa: {week: 32} }\n",
    "permalink: rpn\n",
    "---"
   ]
  },
  {
   "cell_type": "markdown",
   "metadata": {},
   "source": [
    "[Video explaining RPN](https://youtu.be/a8AqZqd8Uc0)\n",
    "\n",
    "#### Basics of RPN\n",
    "\n",
    "In RPN, an expression is evaluated from left to right using a stack. Here’s a step-by-step guide to understand how RPN works:\n",
    "\n",
    "1. **Operands** are pushed onto the stack as they arrive.\n",
    "2. **Operators** pop operands from the stack, perform the operation, and push the result back onto the stack.\n",
    "\n",
    "This process continues until the entire expression has been evaluated, and the final result is found at the top of the stack.\n",
    "\n",
    "#### Example: Evaluating (3 + 2)² using RPN\n",
    "\n",
    "Let's evaluate the expression \\((3 + 2)^2\\) using RPN.\n",
    "\n",
    "1. **Convert to RPN**:\n",
    "   - The infix expression \\((3 + 2)^2\\) can be written in RPN as: `3 2 + 2 ^`\n",
    "   - Here's how the conversion is done:\n",
    "     - \\(3 + 2\\) becomes `3 2 +` (addition in RPN)\n",
    "     - Then the result of the addition is squared, so you append `2 ^`\n",
    "\n",
    "2. **Evaluate the RPN expression**:\n",
    "   - Start with an empty stack.\n",
    "   - Process each token from left to right:\n",
    "\n",
    "     **Token**: `3`\n",
    "     - Push `3` onto the stack.\n",
    "     - Stack: `[3]`\n",
    "\n",
    "     **Token**: `2`\n",
    "     - Push `2` onto the stack.\n",
    "     - Stack: `[3, 2]`\n",
    "\n",
    "     **Token**: `+`\n",
    "     - Pop the top two elements from the stack: `2` and `3`.\n",
    "     - Perform the operation: \\(3 + 2 = 5\\).\n",
    "     - Push the result back onto the stack.\n",
    "     - Stack: `[5]`\n",
    "\n",
    "     **Token**: `2`\n",
    "     - Push `2` onto the stack.\n",
    "     - Stack: `[5, 2]`\n",
    "\n",
    "     **Token**: `^`\n",
    "     - Pop the top two elements from the stack: `2` and `5`.\n",
    "     - Perform the operation: \\(5^2 = 25\\).\n",
    "     - Push the result back onto the stack.\n",
    "     - Stack: `[25]`\n",
    "\n",
    "3. **Final Result**:\n",
    "   - The final result of the RPN expression is at the top of the stack.\n",
    "   - Result: `25`\n",
    "\n",
    "<img width=\"500\" alt=\"image\" src=\"https://github.com/paravsalaniwal/praopersonal/assets/111609656/bb10b900-4462-4f29-94f2-f9d06fc1e751\">\n",
    "\n",
    "#### Benefits of Using RPN\n",
    "\n",
    "1. **Eliminates Parentheses**: In RPN, the need for parentheses to dictate the order of operations is eliminated because the order of operations is implicit in the notation.\n",
    "2. **Efficient Computation**: RPN is more efficient for computers to evaluate because it matches the stack-based architecture of most computer processors.\n",
    "3. **Simplifies Parsing**: Parsing mathematical expressions in RPN is straightforward, avoiding the complexities involved in parsing infix notation."
   ]
  }
 ],
 "metadata": {
  "kernelspec": {
   "display_name": "Java",
   "language": "java",
   "name": "java"
  },
  "language_info": {
   "name": "java"
  }
 },
 "nbformat": 4,
 "nbformat_minor": 2
}
