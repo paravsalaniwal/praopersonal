{
 "cells": [
  {
   "cell_type": "markdown",
   "metadata": {},
   "source": [
    "---\n",
    "toc: true\n",
    "comments: true\n",
    "layout: post\n",
    "title: Algo-Rhythmic Code Prep!\n",
    "description: Code examples of different sorts from Algo-Rhythmic\n",
    "type: tangibles\n",
    "courses: { csa: {week: 30} }\n",
    "---"
   ]
  },
  {
   "cell_type": "markdown",
   "metadata": {},
   "source": [
    "## First Performance - Insertion\n",
    "This was my group. I thought our group was pretty good, yet we must have messed up when first organizing and assigning the pool noodles, so we had to do some impromptu fix. But overall I thought our demonstration of the sort was solid and well explained.\n",
    "\n",
    "## Second Performance\n",
    "I thought this group's performance was also very engaging and fun. They also did two different sorts so I thought they did a good job for managing to do both of the sorts.\n",
    "\n",
    "## Third Performance - Bubble\n",
    "I thought this theme of the bacheleorte was very intersting and creative. I loved the idea of having two people paired up and thought it was really creative. Also I thought it was funny how one group member carried the other. \n",
    "\n",
    "## Fourth Performance\n",
    "I loved how this performance was like a play almost and I thought it was really creative. They had very creative lines I wish we couldn've modeled their performance a little more with more active lines."
   ]
  }
 ],
 "metadata": {
  "kernelspec": {
   "display_name": "Java",
   "language": "java",
   "name": "java"
  },
  "language_info": {
   "name": "java"
  }
 },
 "nbformat": 4,
 "nbformat_minor": 2
}
