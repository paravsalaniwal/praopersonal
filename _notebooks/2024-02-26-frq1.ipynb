{
 "cells": [
  {
   "cell_type": "markdown",
   "metadata": {},
   "source": [
    "---\n",
    "layout: post\n",
    "title: APCSA 2015 FRQ 1\n",
    "permalink: 2015frq1\n",
    "---"
   ]
  },
  {
   "cell_type": "markdown",
   "metadata": {},
   "source": [
    "# Question 1\n",
    "\n",
    "### (a) Write a static method arraySum that calculates and returns the sum of the entries in a specified one-dimensional array. The following example shows an array arr1 and the value returned by a call to arraySum.\n",
    "\n",
    "\n",
    "# Reflection\n",
    "\n",
    "This FRQ was pretty easy to me as I was able to breeze through as this was more mased on initizalising classes and working with arrays, which is one of my strengths in this class. I have worked with arrays and taught multiple lesson on arrays in both CSA trimesters. "
   ]
  },
  {
   "cell_type": "code",
   "execution_count": 5,
   "metadata": {
    "vscode": {
     "languageId": "java"
    }
   },
   "outputs": [
    {
     "name": "stdout",
     "output_type": "stream",
     "text": [
      "Sum of the array elements: 15\n"
     ]
    }
   ],
   "source": [
    "public class ArrayUtils {\n",
    "\n",
    "    public static int arraySum(int[] arr) {\n",
    "        int sum = 0;\n",
    "        for (int num : arr) {\n",
    "            sum += num;\n",
    "        }\n",
    "        return sum;\n",
    "    }\n",
    "\n",
    "    public static void main(String[] args) {\n",
    "        int[] arr1 = {1, 2, 3, 4, 5};\n",
    "        int sum = arraySum(arr1);\n",
    "        System.out.println(\"Sum of the array elements: \" + sum);\n",
    "    }\n",
    "}\n",
    "\n",
    "ArrayUtils.main(null)"
   ]
  },
  {
   "cell_type": "markdown",
   "metadata": {},
   "source": [
    "\n",
    "## Explanation: \n",
    "When you call arraySum(arr1), passing the array arr1, it will return the sum of all elements in that array.\n",
    "\n",
    "\n",
    "### (b) Write a static method rowSums that calculates the sums of each of the rows in a given two-dimensional array and returns these sums in a one-dimensional array. The method has one parameter, a two-dimensional array arr2D of int values. The array is in row-major order: arr2D [ r ] [ c ] is the entry at row r and column c. The method returns a one-dimensional array with one entry for each row of arr2D such that each entry is the sum of the corresponding row in arr2D. As a reminder, each row of a two-dimensional array is a one-dimensional array. For example, if mat1 is the array represented by the following table, the call rowSums(mat1) returns the array {16, 32, 28, 20}.\n",
    "\n"
   ]
  },
  {
   "cell_type": "code",
   "execution_count": 6,
   "metadata": {
    "vscode": {
     "languageId": "java"
    }
   },
   "outputs": [
    {
     "name": "stdout",
     "output_type": "stream",
     "text": [
      "Row sums: 10 26 42 58 \n"
     ]
    }
   ],
   "source": [
    "public class ArrayUtils {\n",
    "\n",
    "    public static int arraySum(int[] arr) {\n",
    "        int sum = 0;\n",
    "        for (int num : arr) {\n",
    "            sum += num;\n",
    "        }\n",
    "        return sum;\n",
    "    }\n",
    "\n",
    "    public static int[] rowSums(int[][] arr2D) {\n",
    "        int[] sums = new int[arr2D.length];\n",
    "        for (int i = 0; i < arr2D.length; i++) {\n",
    "            sums[i] = arraySum(arr2D[i]);\n",
    "        }\n",
    "        return sums;\n",
    "    }\n",
    "\n",
    "    public static void main(String[] args) {\n",
    "        int[][] mat1 = {\n",
    "            {1, 2, 3, 4},\n",
    "            {5, 6, 7, 8},\n",
    "            {9, 10, 11, 12},\n",
    "            {13, 14, 15, 16}\n",
    "        };\n",
    "        int[] rowSumsArray = rowSums(mat1);\n",
    "        System.out.print(\"Row sums: \");\n",
    "        for (int sum : rowSumsArray) {\n",
    "            System.out.print(sum + \" \");\n",
    "        }\n",
    "        System.out.println();\n",
    "    }\n",
    "}\n",
    "\n",
    "ArrayUtils.main(null)\n"
   ]
  },
  {
   "cell_type": "markdown",
   "metadata": {},
   "source": [
    "\n",
    "## Explanation:\n",
    "rowSums method takes a 2D array arr2D as input and returns a 1D array containing the sums of each row. Inside rowSums, we iterate through each row of the 2D array and calculate the sum of elements in that row using the arraySum method (which we defined earlier). The sums are stored in the sums array, which is returned at the end. In the main method, we create an example 2D array mat1, call rowSums with it, and print out the resulting array.\n",
    "\n",
    "\n",
    "### (c) A two-dimensional array is diverse if no two of its rows have entries that sum to the same value. In the following examples, the array mat1 is diverse because each row sum is different, but the array mat2 is not diverse because the first and last rows have the same sum.\n",
    "\n"
   ]
  },
  {
   "cell_type": "code",
   "execution_count": 7,
   "metadata": {
    "vscode": {
     "languageId": "java"
    }
   },
   "outputs": [
    {
     "name": "stdout",
     "output_type": "stream",
     "text": [
      "Is mat1 diverse? true\n",
      "Is mat2 diverse? false\n"
     ]
    }
   ],
   "source": [
    "public class ArrayUtils {\n",
    "\n",
    "    public static int arraySum(int[] arr) {\n",
    "        int sum = 0;\n",
    "        for (int num : arr) {\n",
    "            sum += num;\n",
    "        }\n",
    "        return sum;\n",
    "    }\n",
    "\n",
    "    public static int[] rowSums(int[][] arr2D) {\n",
    "        int[] sums = new int[arr2D.length];\n",
    "        for (int i = 0; i < arr2D.length; i++) {\n",
    "            sums[i] = arraySum(arr2D[i]);\n",
    "        }\n",
    "        return sums;\n",
    "    }\n",
    "\n",
    "    public static boolean isDiverse(int[][] arr2D) {\n",
    "        int[] sums = rowSums(arr2D);\n",
    "        for (int i = 0; i < sums.length - 1; i++) {\n",
    "            for (int j = i + 1; j < sums.length; j++) {\n",
    "                if (sums[i] == sums[j]) {\n",
    "                    return false;\n",
    "                }\n",
    "            }\n",
    "        }\n",
    "        return true;\n",
    "    }\n",
    "\n",
    "    public static void main(String[] args) {\n",
    "        int[][] mat1 = {\n",
    "            {1, 2, 3, 4},\n",
    "            {5, 6, 7, 8},\n",
    "            {9, 10, 11, 12},\n",
    "            {13, 14, 15, 16}\n",
    "        };\n",
    "\n",
    "        int[][] mat2 = {\n",
    "            {1, 2, 15, 16},\n",
    "            {5, 6, 7, 8},\n",
    "            {9, 10, 11, 12},\n",
    "            {3, 4, 14, 13}\n",
    "        };\n",
    "\n",
    "        System.out.println(\"Is mat1 diverse? \" + isDiverse(mat1)); \n",
    "        System.out.println(\"Is mat2 diverse? \" + isDiverse(mat2)); \n",
    "    }\n",
    "}\n",
    "\n",
    "ArrayUtils.main(null)\n"
   ]
  },
  {
   "cell_type": "markdown",
   "metadata": {},
   "source": [
    "## Explanation:\n",
    "In the isDiverse method, we first calculate the row sums using the rowSums method. Then, we compare each pair of sums. If we find any two sums that are equal, we return false indicating that the array is not diverse. If we finish the comparisons without finding any equal sums, we return true, indicating that the array is diverse. In the main method, we test the isDiverse method with two example arrays mat1 and mat2, printing out whether they are diverse or not.\n"
   ]
  }
 ],
 "metadata": {
  "kernelspec": {
   "display_name": "Java",
   "language": "java",
   "name": "java"
  },
  "language_info": {
   "codemirror_mode": "java",
   "file_extension": ".jshell",
   "mimetype": "text/x-java-source",
   "name": "Java",
   "pygments_lexer": "java",
   "version": "20.0.1"
  }
 },
 "nbformat": 4,
 "nbformat_minor": 2
}
