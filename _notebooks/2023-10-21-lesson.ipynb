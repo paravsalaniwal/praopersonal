{
 "cells": [
  {
   "cell_type": "markdown",
   "metadata": {},
   "source": [
    "---\n",
    "layout: post\n",
    "title: Unit 8 Images Lesson\n",
    "description: Student Lesson about using Images and its features in Java\n",
    "---"
   ]
  },
  {
   "cell_type": "markdown",
   "metadata": {},
   "source": [
    "In Jupyter Notebook with Python, you can easily display images within code cells because it's designed for interactive data analysis and visualization, offering built-in support for this. While you can run Java code in VSCode, it doesn't provide the same built-in capabilities for displaying images directly within code cells, which is why you have to use workarounds to achieve this, such as having the image being saved to a folder."
   ]
  },
  {
   "cell_type": "code",
   "execution_count": 38,
   "metadata": {
    "vscode": {
     "languageId": "java"
    }
   },
   "outputs": [
    {
     "name": "stdout",
     "output_type": "stream",
     "text": [
      "Image downloaded and saved to: ../images/MORT1.png\n",
      "Success! Image Dimensions (Width x Height): 1030 x 1372\n",
      "Resolution: 39 pixels per inch (PPI)\n"
     ]
    }
   ],
   "source": [
    "import java.io.*;\n",
    "import java.net.URL;\n",
    "import javax.imageio.ImageIO;\n",
    "import java.awt.image.BufferedImage;\n",
    "\n",
    "public class ImageDownloader {\n",
    "    public static void main(String[] args) {\n",
    "        String imageUrl = \"https://user-images.githubusercontent.com/111609656/277895130-d15b0768-01d9-4522-8ef7-4f8bcf69c42e.png\"; // Replace with the actual image URL\n",
    "        String outputFolder = \"../images\";\n",
    "        String customFileName = \"MORT1.png\"; // Change this to your desired file name\n",
    "\n",
    "        try {\n",
    "            // Define the output file path\n",
    "            String outputPath = outputFolder + File.separator + customFileName;\n",
    "\n",
    "            // Create a URL object from the image URL\n",
    "            URL url = new URL(imageUrl);\n",
    "\n",
    "            // Open a connection to the URL and get the input stream\n",
    "            try (InputStream in = url.openStream();\n",
    "                 OutputStream out = new FileOutputStream(outputPath)) {\n",
    "\n",
    "                // Read data from the URL and save it to the output file\n",
    "                byte[] buffer = new byte[1024];\n",
    "                int bytesRead;\n",
    "\n",
    "                while ((bytesRead = in.read(buffer)) != -1) {\n",
    "                    out.write(buffer, 0, bytesRead);\n",
    "                }\n",
    "            }\n",
    "\n",
    "            System.out.println(\"Image downloaded and saved to: \" + outputPath);\n",
    "\n",
    "            // Get the image dimensions\n",
    "            File imageFile = new File(outputPath);\n",
    "            BufferedImage image = ImageIO.read(imageFile);\n",
    "            int width = image.getWidth();\n",
    "            int height = image.getHeight();\n",
    "\n",
    "            System.out.println(\"Success! Image Dimensions (Width x Height): \" + width + \" x \" + height);\n",
    "\n",
    "            // Calculate resolution in pixels per inch (PPI)\n",
    "            int ppi = (int) (image.getWidth() / (width * 0.0254));\n",
    "            System.out.println(\"Resolution: \" + ppi + \" pixels per inch (PPI)\");\n",
    "        } catch (IOException e) {\n",
    "            e.printStackTrace();\n",
    "        }\n",
    "    }\n",
    "}\n",
    "ImageDownloader.main(null)"
   ]
  },
  {
   "cell_type": "code",
   "execution_count": 42,
   "metadata": {
    "vscode": {
     "languageId": "java"
    }
   },
   "outputs": [
    {
     "name": "stdout",
     "output_type": "stream",
     "text": [
      "Image downloaded, converted to grayscale, and saved to: ../images/MORT2_Grayscale.png\n"
     ]
    }
   ],
   "source": [
    "import java.awt.image.BufferedImage;\n",
    "import java.awt.image.ColorConvertOp;\n",
    "import java.io.*;\n",
    "import java.net.URL;\n",
    "import javax.imageio.ImageIO;\n",
    "\n",
    "public class ImageToGrayscale {\n",
    "    public static void main(String[] args) {\n",
    "        String imageUrl = \"https://user-images.githubusercontent.com/111609656/277895164-5f93f1d8-88b5-4b08-b9a1-b54fb6d55d96.png\"; // Replace with the actual image URL\n",
    "        String outputFolder = \"../images\";\n",
    "        String customFileName = \"MORT2_Grayscale.png\"; // Change this to your desired file name for the grayscale image\n",
    "\n",
    "        try {\n",
    "            // Define the output file path\n",
    "            String outputPath = outputFolder + File.separator + customFileName;\n",
    "\n",
    "            // Create a URL object from the image URL\n",
    "            URL url = new URL(imageUrl);\n",
    "\n",
    "            // Open a connection to the URL and get the input stream\n",
    "            try (InputStream in = url.openStream();\n",
    "                 OutputStream out = new FileOutputStream(outputPath)) {\n",
    "\n",
    "                // Read data from the URL and save it to the output file\n",
    "                byte[] buffer = new byte[1024];\n",
    "                int bytesRead;\n",
    "\n",
    "                while ((bytesRead = in.read(buffer)) != -1) {\n",
    "                    out.write(buffer, 0, bytesRead);\n",
    "                }\n",
    "            }\n",
    "\n",
    "            // Read the downloaded image\n",
    "            BufferedImage originalImage = ImageIO.read(new File(outputPath));\n",
    "\n",
    "            // Create a grayscale image\n",
    "            BufferedImage grayscaleImage = new BufferedImage(originalImage.getWidth(), originalImage.getHeight(), BufferedImage.TYPE_BYTE_GRAY);\n",
    "            ColorConvertOp colorConvert = new ColorConvertOp(null);\n",
    "            colorConvert.filter(originalImage, grayscaleImage);\n",
    "\n",
    "            // Save the grayscale image\n",
    "            String grayscaleOutputPath = outputFolder + File.separator + customFileName;\n",
    "            ImageIO.write(grayscaleImage, \"png\", new File(grayscaleOutputPath));\n",
    "\n",
    "            System.out.println(\"Success! Image converted to grayscale, downloaded, and saved to: \" + grayscaleOutputPath);\n",
    "        } catch (IOException e) {\n",
    "            e.printStackTrace();\n",
    "        }\n",
    "    }\n",
    "}\n",
    "ImageToGrayscale.main(null)"
   ]
  }
 ],
 "metadata": {
  "kernelspec": {
   "display_name": "Java",
   "language": "java",
   "name": "java"
  },
  "language_info": {
   "codemirror_mode": "java",
   "file_extension": ".jshell",
   "mimetype": "text/x-java-source",
   "name": "Java",
   "pygments_lexer": "java",
   "version": "20.0.1"
  }
 },
 "nbformat": 4,
 "nbformat_minor": 2
}
