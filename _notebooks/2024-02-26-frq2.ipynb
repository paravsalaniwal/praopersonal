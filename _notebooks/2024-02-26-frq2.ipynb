{
 "cells": [
  {
   "cell_type": "markdown",
   "metadata": {},
   "source": [
    "---\n",
    "layout: post\n",
    "title: APCSA 2015 FRQ 2\n",
    "permalink: 2015frq2\n",
    "---"
   ]
  },
  {
   "cell_type": "markdown",
   "metadata": {},
   "source": [
    "# Question 2\n",
    "\n",
    "Consider a guessing game in which a player tries to guess a hidden word. The hidden word contains only capital letters and has a length known to the player. A guess contains only capital letters and has the same length as the hidden word. After a guess is made, the player is given a hint that is based on a comparison between the hidden word and the guess. Each position in the hint contains a character that corresponds to the letter in the same position in the guess. The following rules determine the characters that appear in the hint.\n",
    "Guess Letter\tHint Character\n",
    "In same position and also in hidden word\tMatching letter\n",
    "In hidden word, but in different position\t“*”\n",
    "Not in hidden word\t”+”\n",
    "Instructions:\n",
    "The HiddenWord class will be used to represent the hidden word in the game.\n",
    "The hidden word is passed to the constructor.\n",
    "The class contains a method, getHint, that takes a guess and produces a hint.\n",
    "Example:\n",
    "Suppose the variable puzzle is declared as follows:\n",
    "\n",
    "The following table shows several guesses and the hints that would be produced:\n",
    "\n",
    "Call to getHint\tString returned\n",
    "puzzle.getHint(“AAAAA”)\t“+A+++”\n",
    "puzzle.getHint(“HELLO”)\t“H**”\n",
    "puzzle.getHint(“HEART”)\t“H++”\n",
    "puzzle.getHint(“HARMS”)\t“HAR*S”\n",
    "puzzle.getHint(“HARPS”)\t“HARPS”\n",
    "This table demonstrates the correspondence between the guess and the hint produced by the getHint method based on the hidden word.\n",
    "\n",
    "\n",
    "# Reflection\n",
    "\n",
    "This was somewhat difficult of an FRQ question but since it was only one part it made it a lot easier to manage and spend my time wisely on. After getting the getHint function to work I was able to much easily get the rest of the code working as I wanted. "
   ]
  },
  {
   "cell_type": "code",
   "execution_count": 5,
   "metadata": {
    "vscode": {
     "languageId": "java"
    }
   },
   "outputs": [
    {
     "name": "stdout",
     "output_type": "stream",
     "text": [
      "P*+**\n",
      "PAR**\n",
      "PARAV\n"
     ]
    }
   ],
   "source": [
    "public class HiddenWord {\n",
    "    private String hiddenWord;\n",
    "\n",
    "    public HiddenWord(String word) {\n",
    "        this.hiddenWord = word;\n",
    "    }\n",
    "\n",
    "    public String getHint(String guess) {\n",
    "        StringBuilder hint = new StringBuilder();\n",
    "        for (int i = 0; i < hiddenWord.length(); i++) {\n",
    "            if (guess.charAt(i) == hiddenWord.charAt(i)) {\n",
    "                hint.append(hiddenWord.charAt(i));\n",
    "            } else if (hiddenWord.indexOf(guess.charAt(i)) != -1) {\n",
    "                hint.append(\"+\");\n",
    "            } else {\n",
    "                hint.append(\"*\");\n",
    "            }\n",
    "        }\n",
    "        return hint.toString();\n",
    "    }\n",
    "    public static void main(String[] args){\n",
    "        HiddenWord harps = new HiddenWord(\"PARAV\");\n",
    "\n",
    "        System.out.println(harps.getHint(\"PLANS\"));\n",
    "        System.out.println(harps.getHint(\"PARIS\"));\n",
    "        System.out.println(harps.getHint(\"PARAV\"));\n",
    "    }\n",
    "\n",
    "}\n",
    "HiddenWord.main(null);"
   ]
  },
  {
   "cell_type": "markdown",
   "metadata": {},
   "source": [
    "## Explanation: \n",
    "\n",
    "This Java code defines a class called `HiddenWord`, which stores a hidden word to be guessed. The `getHint` method compares a guessed word to the hidden word, providing hints with \"+\" indicating correct letters in incorrect positions, the letter itself for correct guesses, and \"*\" for incorrect guesses. The `main` method demonstrates the functionality by creating an instance of `HiddenWord` with the word \"PARAV\" and printing the hints for various guesses."
   ]
  }
 ],
 "metadata": {
  "kernelspec": {
   "display_name": "Java",
   "language": "java",
   "name": "java"
  },
  "language_info": {
   "codemirror_mode": "java",
   "file_extension": ".jshell",
   "mimetype": "text/x-java-source",
   "name": "Java",
   "pygments_lexer": "java",
   "version": "20.0.1"
  }
 },
 "nbformat": 4,
 "nbformat_minor": 2
}
