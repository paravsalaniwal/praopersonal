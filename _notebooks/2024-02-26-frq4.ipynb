{
 "cells": [
  {
   "cell_type": "markdown",
   "metadata": {},
   "source": [
    "---\n",
    "layout: post\n",
    "title: APCSA 2015 FRQ 4\n",
    "permalink: 2015frq4\n",
    "---"
   ]
  },
  {
   "cell_type": "markdown",
   "metadata": {},
   "source": [
    "# Question 4\n",
    "\n",
    "(a) A number group represents a group of integers defined in some way. It could be empty, or it could contain one or more integers.\n",
    "\n",
    "Write an interface named NumberGroup that represents a group of integers. The interface should have a single contains method that determines if a given integer is in the group. For example, if group1 is of type NumberGroup, and it contains only the two numbers -5 and 3, then group1.contains(-5) would return true, and group1.contains(2) would return false.\n",
    "Write the complete NumberGroup interface. It must have exactly one method.\n",
    "\n",
    "\n",
    "# Reflection\n",
    "\n",
    "I felt like this was a pretty simple FRQ question as it was very easy to build off from part A and once part A was figured out, part B and C became very easy. I struggled the most with part A because implementing the number group was confusing to me."
   ]
  },
  {
   "cell_type": "code",
   "execution_count": 12,
   "metadata": {
    "vscode": {
     "languageId": "java"
    }
   },
   "outputs": [
    {
     "name": "stdout",
     "output_type": "stream",
     "text": [
      "true\n",
      "false\n"
     ]
    }
   ],
   "source": [
    "import java.util.Arrays;\n",
    "import java.util.List;\n",
    "\n",
    "public class Main {\n",
    "    public static void main(String[] args) {\n",
    "        NumberGroup group1 = new IntegerList(Arrays.asList(23, 21));\n",
    "        System.out.println(group1.contains(23));\n",
    "        System.out.println(group1.contains(4));  \n",
    "    }\n",
    "\n",
    "    public interface NumberGroup {\n",
    "        boolean contains(int num);\n",
    "    }\n",
    "\n",
    "    public static class IntegerList implements NumberGroup {\n",
    "        private List<Integer> numbers;\n",
    "\n",
    "        public IntegerList(List<Integer> numbers) {\n",
    "            this.numbers = numbers;\n",
    "        }\n",
    "\n",
    "        @Override\n",
    "        public boolean contains(int num) {\n",
    "            return numbers.contains(num);\n",
    "        }\n",
    "    }\n",
    "}\n",
    "\n",
    "Main.main(null);"
   ]
  },
  {
   "cell_type": "markdown",
   "metadata": {},
   "source": [
    "## Explanation: \n",
    "\n",
    "This Java code defines a `NumberGroup` interface with a method `contains` that checks if a given number is contained within the group. Additionally, it implements a concrete class `IntegerList` that represents a group of integers stored in a list and provides an implementation for the `contains` method by delegating to the `contains` method of the underlying list. In the `main` method, an instance of `IntegerList` is created with a list of integers, and then the `contains` method is invoked to check if specific numbers are contained within the group.\n",
    "\n",
    "### (b) A range represents a number group that contains all (and only) the integers between a minimum value and a maximum value, inclusive.\n",
    "Write the Range class, which is a NumberGroup. The Range class represents the group of int values that range from a given minimum value up through a given maximum value, inclusive. For example, the declaration\n",
    "\n",
    "NumberGroup range1 = new Range(-3, 2);\n",
    "\n",
    "represents the group of integer values -3, -2, -1, 0, 1, 2.\n",
    "\n",
    "Write the complete Range class. Include all necessary instance variables and methods as well as a constructor that takes two int parameters. The first parameter represents the minimum value, and the second parameter represents the maximum value of the range. You may assume that the minimum is less than or equal to the maximum.\n",
    "\n"
   ]
  },
  {
   "cell_type": "code",
   "execution_count": 13,
   "metadata": {
    "vscode": {
     "languageId": "java"
    }
   },
   "outputs": [
    {
     "name": "stdout",
     "output_type": "stream",
     "text": [
      "false\n",
      "true\n",
      "true\n"
     ]
    }
   ],
   "source": [
    "public class Main {\n",
    "    public static void main(String[] args) {\n",
    "        NumberGroup range1 = new Range(-13, 11);\n",
    "        System.out.println(range1.contains(-23));\n",
    "        System.out.println(range1.contains(2)); \n",
    "        System.out.println(range1.contains(10)); \n",
    "    }\n",
    "\n",
    "    public interface NumberGroup {\n",
    "        boolean contains(int num);\n",
    "    }\n",
    "\n",
    "    public static class Range implements NumberGroup {\n",
    "        private int min;\n",
    "        private int max;\n",
    "\n",
    "        public Range(int min, int max) {\n",
    "            this.min = min;\n",
    "            this.max = max;\n",
    "        }\n",
    "\n",
    "        @Override\n",
    "        public boolean contains(int num) {\n",
    "            return num >= min && num <= max;\n",
    "        }\n",
    "    }\n",
    "}\n",
    "\n",
    "Main.main(null);"
   ]
  },
  {
   "cell_type": "markdown",
   "metadata": {},
   "source": [
    "## Explanation:\n",
    "\n",
    "This Java code defines a `NumberGroup` interface with a method `contains` that checks if a given number falls within a specified range. It implements a concrete class `Range` representing a numerical range with minimum and maximum values, providing an implementation for the `contains` method to check if a number is within the range.\n",
    "\n",
    "### (c) The MultipleGroups class (not shown) represents a collection of NumberGroup objects and isa NumberGroup. The MultipleGroups class stores the number groups in the instance variable groupList (shown below), which is initialized in the constructor.\n",
    "\n",
    "private List<NumberGroup> groupList;\n",
    "\n",
    "Write the MultipleGroups method contains. The method takes an integer and returns true if and only if the integer is contained in one or more of the number groups in groupList.\n",
    "\n",
    "For example, suppose multiple1 has been declared as an instance of MultipleGroups and consists of the three ranges created by the calls new Range(5, 8), new Range(10, 12), and new Range(1, 6). The following table shows the results of several calls to contains.\n",
    "\n"
   ]
  },
  {
   "cell_type": "code",
   "execution_count": 14,
   "metadata": {
    "vscode": {
     "languageId": "java"
    }
   },
   "outputs": [
    {
     "name": "stdout",
     "output_type": "stream",
     "text": [
      "true\n",
      "false\n",
      "true\n"
     ]
    }
   ],
   "source": [
    "import java.util.ArrayList;\n",
    "import java.util.List;\n",
    "\n",
    "public class Main {\n",
    "    public static void main(String[] args) {\n",
    "        List<NumberGroup> groups = new ArrayList<>();\n",
    "        groups.add(new Range(2, 8));\n",
    "        groups.add(new Range(11, 14));\n",
    "        groups.add(new Range(4, 9));\n",
    "\n",
    "        MultipleGroups multiple1 = new MultipleGroups(groups);\n",
    "        \n",
    "        System.out.println(multiple1.contains(6)); \n",
    "        System.out.println(multiple1.contains(1));\n",
    "        System.out.println(multiple1.contains(9));\n",
    "    }\n",
    "\n",
    "    public interface NumberGroup {\n",
    "        boolean contains(int num);\n",
    "    }\n",
    "\n",
    "    public static class Range implements NumberGroup {\n",
    "        private int min;\n",
    "        private int max;\n",
    "\n",
    "        public Range(int min, int max) {\n",
    "            this.min = min;\n",
    "            this.max = max;\n",
    "        }\n",
    "\n",
    "        @Override\n",
    "        public boolean contains(int num) {\n",
    "            return num >= min && num <= max;\n",
    "        }\n",
    "    }\n",
    "\n",
    "    public static class MultipleGroups implements NumberGroup {\n",
    "        private List<NumberGroup> groupList;\n",
    "\n",
    "        public MultipleGroups(List<NumberGroup> groupList) {\n",
    "            this.groupList = groupList;\n",
    "        }\n",
    "\n",
    "        public boolean contains(int num) {\n",
    "            for (NumberGroup group : groupList) {\n",
    "                if (group.contains(num)) {\n",
    "                    return true;\n",
    "                }\n",
    "            }\n",
    "            return false;\n",
    "        }\n",
    "    }\n",
    "}\n",
    "\n",
    "Main.main(null);"
   ]
  },
  {
   "cell_type": "markdown",
   "metadata": {},
   "source": [
    "## Explanation:\n",
    "\n",
    "This Java code defines a `NumberGroup` interface with a method `contains` that checks if a given number is contained within a group. It implements a concrete class `MultipleGroups` representing a collection of `NumberGroup` instances and provides an implementation for the `contains` method to check if the number is contained within any of the groups in the collection by iterating over them. In the `main` method, a list of `NumberGroup` instances, each representing a range of numbers, is created and then used to initialize an instance of `MultipleGroups`, which is then used to check for containment of specific numbers.\n"
   ]
  }
 ],
 "metadata": {
  "kernelspec": {
   "display_name": "Java",
   "language": "java",
   "name": "java"
  },
  "language_info": {
   "codemirror_mode": "java",
   "file_extension": ".jshell",
   "mimetype": "text/x-java-source",
   "name": "Java",
   "pygments_lexer": "java",
   "version": "20.0.1"
  }
 },
 "nbformat": 4,
 "nbformat_minor": 2
}
